{
 "cells": [
  {
   "cell_type": "markdown",
   "metadata": {},
   "source": [
    "# What is data type"
   ]
  },
  {
   "attachments": {},
   "cell_type": "markdown",
   "metadata": {},
   "source": [
    "A data type is just type of data which instruct interpreter/compiler how the programmer will use the data. Whenever a type is assigned to data it helps to signify following things:\n",
    "1. What kind of value a data can have.\n",
    "2. What operation can be performed on data.\n",
    "3. Possible range of data\n",
    "4. Size of data, that it will takes inside the memory.\n"
   ]
  },
  {
   "cell_type": "markdown",
   "metadata": {},
   "source": [
    "# Data Types in python\n",
    "\n",
    "1. None\n",
    "2. Numbers\n",
    "  1. Int\n",
    "  2. Float\n",
    "  3. Complex\n",
    "3. Boolean\n",
    "4. Iterables\n",
    "  1. List\n",
    "  2. Tuple\n",
    "  3. Sets\n",
    "5. Mapping\n",
    "6. Callable\n",
    "7. Classes\n",
    "8. Modules"
   ]
  },
  {
   "cell_type": "markdown",
   "metadata": {},
   "source": [
    "# None"
   ]
  },
  {
   "cell_type": "markdown",
   "metadata": {},
   "source": [
    "`None` is special kind of data type, that used to signify nullity or non presence of something. In some other language it is also referred as\n",
    "\n",
    "In Javascript\n",
    "```javascript\n",
    "null\n",
    "```\n",
    "In Perl  \n",
    "```perl\n",
    "unspecified\n",
    "```\n",
    "In R  \n",
    "```R\n",
    "NA\n",
    "NULL\n",
    "```\n",
    "whatever it is specified in other language it is used to signify, non-presense or no value assigned to something. If you type `None` in python `REPL` interpreter. You won't see any output since None itself signify non presence. However you can print `None` using `print` function\n",
    "```python\n",
    ">>> None\n",
    ">>> print(None)\n",
    "None\n",
    "```\n",
    "## Operation supported on None"
   ]
  },
  {
   "cell_type": "markdown",
   "metadata": {},
   "source": [
    "1. Identity operators (is, is not). These operator returens `True` if two values (or variables) are located on the same part of the memory.\n",
    "```python\n",
    ">>> None is None\n",
    "True\n",
    ">>> None is not None\n",
    "False\n",
    ">>> id(None) # gives integral location in memory\n",
    "94086143984480 \n",
    ">>> # More we will study about these operator in iterables\n",
    ">>> print(2) is print(3)\n",
    "2\n",
    "3\n",
    "True # How this is printed? Because print is a function that returns nothing, means None. so ultimately the expression evaluates to: None is None => which is true\n",
    "```\n",
    "2. Logical operators (`not`, `and`, `or`)\n",
    "```python\n",
    ">>> not None # invert a non True value to True, and True value to False\n",
    "True # this signify None represent a non true value\n",
    ">>> None and None\n",
    ">>> None or None\n",
    "```\n",
    "```python\n",
    ">>> None and print(2)\n",
    "```\n",
    "It won't print 2 because logical `and` operator and `or` operator are short circuit operator.\n",
    "* **and** operator does not evaluate the second operand/expression moving from left to right, if it receive the first operand/expression as non True value.\n",
    "* **or** operator will not evaluate the second operand/expression moving from left to right if it receives the first operand/expression as True value.\n",
    "Guess the output of the below three line.\n",
    "```python\n",
    ">>> print(2) and print(3)\n",
    ">>> print(2) or print(3) \n",
    ">>> (not print(3)) or print(4) \n",
    "```\n",
    "3. Equality (==) or non Equality Operator(!=)\n",
    "```python\n",
    ">>> None == None\n",
    "True\n",
    ">>> None != None\n",
    "```"
   ]
  }
 ],
 "metadata": {
  "kernelspec": {
   "display_name": "Python 3",
   "language": "python",
   "name": "python3"
  },
  "language_info": {
   "codemirror_mode": {
    "name": "ipython",
    "version": 3
   },
   "file_extension": ".py",
   "mimetype": "text/x-python",
   "name": "python",
   "nbconvert_exporter": "python",
   "pygments_lexer": "ipython3",
   "version": "3.8.5"
  }
 },
 "nbformat": 4,
 "nbformat_minor": 4
}
