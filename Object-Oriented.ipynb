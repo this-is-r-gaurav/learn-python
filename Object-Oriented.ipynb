{
 "cells": [
  {
   "cell_type": "markdown",
   "metadata": {},
   "source": [
    "# Object Oriented Concepts\n",
    "---"
   ]
  },
  {
   "cell_type": "markdown",
   "metadata": {},
   "source": [
    "Object Oriented concept deals with the turning the data and functions into a single entity called as object. The data is called as **properies** of the object and functions are called as the **behaviour** of the object. This pardigm helps in translating code analogus to real world entities."
   ]
  },
  {
   "cell_type": "markdown",
   "metadata": {},
   "source": [
    "## Defining Class\n",
    "---\n",
    "To create an Object first we create a blueprint of the object, which helps to create similar object without repeating the same logic for another object. The Blueprint is created using defining **class**\n",
    "\n",
    "To define a class we need follow following syntax:\n",
    "```python\n",
    "class className:\n",
    "    pass\n",
    "```\n",
    "\n",
    "Where `class` is the keyword in python and `className` can be any name of the class that is need to be created. `pass` is often used as a placeholder indicating where code will eventually go. It allows you to run this code without Python throwing an error.\n",
    "\n",
    "The class does not contain any data, it just contain logic to create the objects from that blueprint. The cell given below create a class Person. These two line of code create the simplest class named as Person. "
   ]
  },
  {
   "cell_type": "code",
   "execution_count": 1,
   "metadata": {},
   "outputs": [],
   "source": [
    "class Person:\n",
    "    pass"
   ]
  },
  {
   "cell_type": "markdown",
   "metadata": {},
   "source": [
    "## Creating Object"
   ]
  },
  {
   "cell_type": "markdown",
   "metadata": {},
   "source": [
    "After creating blueprint or we can create as many object as we want. Just by the following syntax. Object is also called as instance of the class\n",
    "```python\n",
    "my_obj= className()\n",
    "```\n",
    "For eg to create the object user of class Person, we can execute cell shown below:"
   ]
  },
  {
   "cell_type": "code",
   "execution_count": 2,
   "metadata": {},
   "outputs": [],
   "source": [
    "user= Person()"
   ]
  },
  {
   "cell_type": "markdown",
   "metadata": {},
   "source": [
    "## Property or Attribute of an object"
   ]
  },
  {
   "cell_type": "markdown",
   "metadata": {},
   "source": [
    "In real world every object have some properties that differentiate it from object of same kind. These are called as **property** of the object. Also known as attributes. There are two kind of Properties\n",
    "1. Instance Proprty: The value of instance property may vary from object to object of same class. \n",
    "2. Class Property: The value of the class property is same for every object of same class.\n",
    "\n",
    "The instance property is defined within the initializer, or a magic method called as `__init__`. For eg the cell shown below represent the both **class property** named as `immortal` and `population` and two **instance property** defined as `name` and `age` of the Person class. Currently it is assigned hardcoded value. In a short while, we will se how to initialize property at the time of creation. Now both property will have default value at time of creation. So every object at time of creation will have same values of each property."
   ]
  },
  {
   "cell_type": "code",
   "execution_count": 5,
   "metadata": {},
   "outputs": [],
   "source": [
    "class Person:\n",
    "    immortal = False\n",
    "    population = 0\n",
    "    def __init__(self):\n",
    "        Person.population +=1\n",
    "        self.name = \"Person Name\"\n",
    "        self.age = 0"
   ]
  },
  {
   "cell_type": "markdown",
   "metadata": {},
   "source": [
    "The cell shown below create two object of person teacher and student. If we print the value of instance Property of each object, both will have same value. and the class property is same for both object after creation of both object"
   ]
  },
  {
   "cell_type": "code",
   "execution_count": 7,
   "metadata": {},
   "outputs": [],
   "source": [
    "teacher = Person()\n",
    "student = Person()"
   ]
  },
  {
   "cell_type": "code",
   "execution_count": 8,
   "metadata": {},
   "outputs": [
    {
     "name": "stdout",
     "output_type": "stream",
     "text": [
      "Teacher Instance Properties, name:Person Name, age:0\n",
      "Student Instance Properties, name:Person Name, age:0\n"
     ]
    }
   ],
   "source": [
    "print(f\"Teacher Instance Properties, name:{teacher.name}, age:{teacher.age}\")\n",
    "print(f\"Student Instance Properties, name:{student.name}, age:{student.age}\")"
   ]
  },
  {
   "cell_type": "code",
   "execution_count": 12,
   "metadata": {},
   "outputs": [
    {
     "name": "stdout",
     "output_type": "stream",
     "text": [
      "Teacher class Properties, Is Immortal:False, Population:2\n",
      "Student class Properties, Is Immortal:False, population:2\n"
     ]
    }
   ],
   "source": [
    "print(f\"Teacher class Properties, Is Immortal:{teacher.immortal}, Population:{teacher.population}\")\n",
    "print(f\"Student class Properties, Is Immortal:{student.immortal}, population:{student.population}\")"
   ]
  },
  {
   "cell_type": "markdown",
   "metadata": {},
   "source": [
    "class properties can be accessed also by dot syntax `className.propertyname`. For eg: will yield same result\n",
    "```python\n",
    "print(Person.population,teacher.population)\n",
    "```"
   ]
  },
  {
   "cell_type": "code",
   "execution_count": 13,
   "metadata": {},
   "outputs": [
    {
     "name": "stdout",
     "output_type": "stream",
     "text": [
      "2 2\n"
     ]
    }
   ],
   "source": [
    "print(Person.population,teacher.population)"
   ]
  },
  {
   "cell_type": "markdown",
   "metadata": {},
   "source": [
    "## Initializing Properties of object"
   ]
  },
  {
   "cell_type": "code",
   "execution_count": null,
   "metadata": {},
   "outputs": [],
   "source": []
  },
  {
   "cell_type": "code",
   "execution_count": 29,
   "metadata": {},
   "outputs": [],
   "source": [
    "class MyTriangle(object):\n",
    "    \n",
    "    def __new__(cls, a,b,c):\n",
    "        ## Generally We Avoid implementing this method, and This is the first method that will be called when you create a new object\n",
    "        # After that __init__ will be called\n",
    "        return object.__new__(cls)\n",
    "        \n",
    "    def __init__(self, a, b, c):\n",
    "        print(\"Init Called\")\n",
    "        self.a = a\n",
    "        self.b = b\n",
    "        self.c = c\n",
    "        \n",
    "    def __str__(self):\n",
    "        #return \"Triangle with side {}, {}, {} \".format(self.a, self.b, self.c) # before python 3.7 and after python 2\n",
    "        return f\"Triangle with side {self.a} {self.b} {self.c}\"\n",
    "    \n",
    "    def __repr__(self):\n",
    "        return f\"Triangle with side {self.a} {self.b} {self.c}\"\n",
    "    \n",
    "        \n",
    "    def perimeter(self):\n",
    "        return self.a + self.b + self.c\n",
    "    \n",
    "    @staticmethod\n",
    "    def isTriangle(l):\n",
    "        if len(l)==3:\n",
    "            result = True\n",
    "            for i in range(3):\n",
    "                print(result)\n",
    "                result = result and (l[i] <= l[(i+1)%3] + l[(i+2)%3] )\n",
    "            # return l[0]+l[1] >= l[2] and l[1]+l[2]>=l[0] and l[0]+l[2]>=l[1] \n",
    "            return result\n",
    "        else:\n",
    "            return False\n",
    "        \n",
    "    def __abs__(self):\n",
    "        return self\n",
    "    \n",
    "    def __eq__(self, other):\n",
    "        return self.a == other.a and self.b == other.b and self.c == other.c\n",
    "        \n",
    "    @classmethod\n",
    "    def getTriangle(cls,l):\n",
    "        if cls.isTriangle(l):\n",
    "            return cls(l[0],l[1],l[2])\n",
    "        else:\n",
    "            return None\n",
    "        \n",
    "        \n",
    "    "
   ]
  },
  {
   "cell_type": "code",
   "execution_count": 40,
   "metadata": {},
   "outputs": [],
   "source": [
    "del my_triangle"
   ]
  },
  {
   "cell_type": "code",
   "execution_count": 20,
   "metadata": {},
   "outputs": [
    {
     "data": {
      "text/plain": [
       "3"
      ]
     },
     "execution_count": 20,
     "metadata": {},
     "output_type": "execute_result"
    }
   ],
   "source": []
  },
  {
   "cell_type": "code",
   "execution_count": 41,
   "metadata": {},
   "outputs": [
    {
     "ename": "NameError",
     "evalue": "name 'my_triangle' is not defined",
     "output_type": "error",
     "traceback": [
      "\u001b[0;31m---------------------------------------------------------------------------\u001b[0m",
      "\u001b[0;31mNameError\u001b[0m                                 Traceback (most recent call last)",
      "\u001b[0;32m<ipython-input-41-5f8493794ad6>\u001b[0m in \u001b[0;36m<module>\u001b[0;34m\u001b[0m\n\u001b[0;32m----> 1\u001b[0;31m \u001b[0mmy_triangle\u001b[0m\u001b[0;34m\u001b[0m\u001b[0;34m\u001b[0m\u001b[0m\n\u001b[0m",
      "\u001b[0;31mNameError\u001b[0m: name 'my_triangle' is not defined"
     ]
    }
   ],
   "source": []
  },
  {
   "cell_type": "code",
   "execution_count": null,
   "metadata": {},
   "outputs": [],
   "source": [
    "fp = "
   ]
  },
  {
   "cell_type": "code",
   "execution_count": 21,
   "metadata": {},
   "outputs": [
    {
     "data": {
      "text/plain": [
       "3"
      ]
     },
     "execution_count": 21,
     "metadata": {},
     "output_type": "execute_result"
    }
   ],
   "source": [
    "1 and2"
   ]
  },
  {
   "cell_type": "code",
   "execution_count": 30,
   "metadata": {},
   "outputs": [
    {
     "name": "stdout",
     "output_type": "stream",
     "text": [
      "Init Called\n"
     ]
    }
   ],
   "source": [
    "my_triangle = MyTriangle(1,2,3)"
   ]
  },
  {
   "cell_type": "code",
   "execution_count": 34,
   "metadata": {},
   "outputs": [
    {
     "name": "stdout",
     "output_type": "stream",
     "text": [
      "Init Called\n"
     ]
    }
   ],
   "source": [
    "my_triangl2 = MyTriangle(5,6,7)"
   ]
  },
  {
   "cell_type": "code",
   "execution_count": 39,
   "metadata": {},
   "outputs": [
    {
     "data": {
      "text/plain": [
       "True"
      ]
     },
     "execution_count": 39,
     "metadata": {},
     "output_type": "execute_result"
    }
   ],
   "source": [
    "bool(my_triangle)"
   ]
  },
  {
   "cell_type": "code",
   "execution_count": 38,
   "metadata": {},
   "outputs": [
    {
     "data": {
      "text/plain": [
       "''"
      ]
     },
     "execution_count": 38,
     "metadata": {},
     "output_type": "execute_result"
    }
   ],
   "source": []
  },
  {
   "cell_type": "code",
   "execution_count": 2,
   "metadata": {},
   "outputs": [
    {
     "name": "stdout",
     "output_type": "stream",
     "text": [
      "0 1 2\n",
      "1 2 0\n",
      "2 0 1\n"
     ]
    }
   ],
   "source": [
    "for i in range(3):\n",
    "    print(i, (i+1)%3, (i+2)%3)"
   ]
  },
  {
   "cell_type": "code",
   "execution_count": 3,
   "metadata": {},
   "outputs": [
    {
     "name": "stdout",
     "output_type": "stream",
     "text": [
      "True\n",
      "True\n",
      "True\n",
      "Init Called\n"
     ]
    }
   ],
   "source": [
    "tr=MyTriangle.getTriangle([1,2,3])"
   ]
  },
  {
   "cell_type": "code",
   "execution_count": 4,
   "metadata": {},
   "outputs": [
    {
     "data": {
      "text/plain": [
       "6"
      ]
     },
     "execution_count": 4,
     "metadata": {},
     "output_type": "execute_result"
    }
   ],
   "source": [
    "tr.perimeter()"
   ]
  },
  {
   "cell_type": "code",
   "execution_count": 5,
   "metadata": {},
   "outputs": [
    {
     "name": "stdout",
     "output_type": "stream",
     "text": [
      "Triangle with side 1 2 3\n"
     ]
    }
   ],
   "source": [
    "print(tr)"
   ]
  },
  {
   "cell_type": "code",
   "execution_count": 6,
   "metadata": {},
   "outputs": [
    {
     "data": {
      "text/plain": [
       "'Triangle with side 1 2 3'"
      ]
     },
     "execution_count": 6,
     "metadata": {},
     "output_type": "execute_result"
    }
   ],
   "source": [
    "str(tr)"
   ]
  },
  {
   "cell_type": "code",
   "execution_count": 7,
   "metadata": {},
   "outputs": [
    {
     "data": {
      "text/plain": [
       "Triangle with side 1 2 3"
      ]
     },
     "execution_count": 7,
     "metadata": {},
     "output_type": "execute_result"
    }
   ],
   "source": [
    "tr"
   ]
  }
 ],
 "metadata": {
  "kernelspec": {
   "display_name": "Python 3",
   "language": "python",
   "name": "python3"
  },
  "language_info": {
   "codemirror_mode": {
    "name": "ipython",
    "version": 3
   },
   "file_extension": ".py",
   "mimetype": "text/x-python",
   "name": "python",
   "nbconvert_exporter": "python",
   "pygments_lexer": "ipython3",
   "version": "3.8.5"
  }
 },
 "nbformat": 4,
 "nbformat_minor": 4
}
