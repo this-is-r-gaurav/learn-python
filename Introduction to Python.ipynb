{
 "cells": [
  {
   "cell_type": "markdown",
   "metadata": {},
   "source": [
    "# Introduction To Python\n",
    "Python is an **interpreted**, **object oriented**, **dynamically typed** and **high level** language.\n",
    "1. Interpreted: A programming language is said to be interpreted, if the source code is executed line by line, without translating them into computer understable format or binary format. If any of the source code line returns error, then the execution of the program stops immediately.\n",
    "2. Object Oriented: A language is said to be object oriented, that has some concept of structuring criteria of binding data and method to a single entity. Generally called as `class`. For eg.\n",
    "```python3\n",
    "a=\"test\" # Here a is of type string\n",
    "a=2 # Here a is of type integer\n",
    "```\n",
    "3. Dynamically Typed: A language is said to be dynamically typed language, while creating variable you need not to assign type qualifier to the variable, the type of the variable is automatically guessed from the data assign to it.\n",
    "4. High Level: A language is said to be high level language if that lets you create program in english like format, and independent of machine architecture.\n",
    "\n",
    "**Author of Python** is `Guido Van Rossum`"
   ]
  },
  {
   "cell_type": "markdown",
   "metadata": {},
   "source": [
    "You can start python interpreter by typing\n",
    "```bash\n",
    "$ python3 # $ symbol is just denoting shell prompt you need to type only python3\n",
    "```\n",
    "in your terminal. This will start an prompt `>>>` that is ready to recieve the input. This environment that open after typing python3 is called as `REPL` aka `Read Eval Print Loop`, i.e. it will read an input from you or line of code, and evaluate that expression, and print the output if any, and will again prompt to receive one more input."
   ]
  },
  {
   "cell_type": "markdown",
   "metadata": {},
   "source": [
    "Let's write the defacto program, that is usually written while coding first time in a new language, yes you guessed it right a `hello world` program\n",
    "```python\n",
    ">>> print(\"hello world\")\n",
    "hello world\n",
    "```\n",
    "You can exit from the `REPL` environment by one of the following method\n",
    "```python\n",
    "quit()\n",
    "```\n",
    "or \n",
    "<kbd>Ctrl</kbd>+<kbd>d</kbd> in linux, and <kbd>Ctrl</kbd>+<kbd>z</kbd> in windows.\n",
    "\n",
    "## Different way of invoking python interpreter\n",
    "\n",
    "1. **Running python one line code within shell**  \n",
    "There are many ways you can invoke python interpreter. If you have to execute one two line code you can directly execute in shell by the following way\n",
    "\n",
    "```bash\n",
    "$ python3 -c \"print('hello world!')\"\n",
    "hello world!\n",
    "```\n",
    "2. **Running python code written in a file**  \n",
    "You need to create a file, generally we create it with extension `.py` but you can create any file but it should have python executable code. say you created a file `hello_world.py`\n",
    "\n",
    "```python\n",
    "#!/usr/bin/env python3\n",
    "print(\"Hello World!\")\n",
    "```\n",
    "then you can invoke the file using following command\n",
    "```bash\n",
    "$ python3 hello_world.py\n",
    "Hello World!\n",
    "```\n",
    "There are many other ways to run the intereter. you can refer the documentation for that [Invoking the interpreter](https://docs.python.org/3.9/tutorial/interpreter.html#invoking-the-interpreter)"
   ]
  },
  {
   "cell_type": "markdown",
   "metadata": {},
   "source": [
    "Now you can move to other topic. Data types in python [Data Type](./DataType.ipynb)"
   ]
  }
 ],
 "metadata": {
  "kernelspec": {
   "display_name": "Python 3",
   "language": "python",
   "name": "python3"
  },
  "language_info": {
   "codemirror_mode": {
    "name": "ipython",
    "version": 3
   },
   "file_extension": ".py",
   "mimetype": "text/x-python",
   "name": "python",
   "nbconvert_exporter": "python",
   "pygments_lexer": "ipython3",
   "version": "3.8.5"
  }
 },
 "nbformat": 4,
 "nbformat_minor": 4
}
