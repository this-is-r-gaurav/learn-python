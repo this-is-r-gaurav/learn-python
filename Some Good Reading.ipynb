{
 "cells": [
  {
   "cell_type": "markdown",
   "metadata": {},
   "source": [
    "# Some Good Reading \n",
    "A deep dive concepts collection about how python \n",
    "1. [To understand why None is None returns true. You can read about Singleton and interning ](https://medium.com/@daniel.tooke/singletons-and-interning-in-python-328413db334)\n",
    "2. [Will Python intern my string, How Python handle memory optimization](https://medium.com/@daniel.tooke/will-python-intern-my-string-94ea9efc18b2)"
   ]
  }
 ],
 "metadata": {
  "kernelspec": {
   "display_name": "Python 3",
   "language": "python",
   "name": "python3"
  },
  "language_info": {
   "codemirror_mode": {
    "name": "ipython",
    "version": 3
   },
   "file_extension": ".py",
   "mimetype": "text/x-python",
   "name": "python",
   "nbconvert_exporter": "python",
   "pygments_lexer": "ipython3",
   "version": "3.8.5"
  }
 },
 "nbformat": 4,
 "nbformat_minor": 4
}
