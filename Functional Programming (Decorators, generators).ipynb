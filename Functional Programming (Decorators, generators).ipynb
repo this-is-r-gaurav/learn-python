{
 "cells": [
  {
   "cell_type": "markdown",
   "metadata": {},
   "source": [
    "# Functions as Object"
   ]
  },
  {
   "cell_type": "markdown",
   "metadata": {},
   "source": [
    "As in python we can assign a variable to any other variable.\n",
    "```python\n",
    "x=\"My Var\"\n",
    "y= x\n",
    "```\n",
    "Functions also can be treated similarly you can define a function `f1` and assign it to another variable `z`. Then call the function with `z()` as well. For eg:\n",
    "\n",
    "```python\n",
    "\n",
    "def square(num,exp=2):\n",
    "    return num**exp\n",
    "\n",
    "print(square(3)) # returns 9\n",
    "exponent = square\n",
    "print(exponenet(3)) # returns 9\n",
    "```"
   ]
  },
  {
   "cell_type": "markdown",
   "metadata": {},
   "source": [
    "##  Exercise: Create A Function add that takes two arguments and assign it to a variable concatenate. And Demonstrate, calling add function on integer and concatenate function on string."
   ]
  },
  {
   "cell_type": "code",
   "execution_count": 1,
   "metadata": {},
   "outputs": [],
   "source": [
    "def square(num, exp=2):\n",
    "    return num ** exp"
   ]
  },
  {
   "cell_type": "code",
   "execution_count": null,
   "metadata": {},
   "outputs": [],
   "source": []
  },
  {
   "cell_type": "markdown",
   "metadata": {},
   "source": [
    "As functions can be assigned to another variable in similar way a function can be passed as argument inside another function. For eg:\n",
    "\n",
    "```python\n",
    "\n",
    "def add(number1, number2, exponent=None):\n",
    "    if not exponent:\n",
    "        return number1 + number2\n",
    "    else:\n",
    "        return exponent(number1) + exponent(number2)\n",
    "\n",
    "def squares(number1):\n",
    "    return number1**2\n",
    "\n",
    "def cube(number1):\n",
    "    return number1**3\n",
    "\n",
    "print(add(3,2))  # returns 5 \n",
    "print(add(3,2,squares)) # resturns 13\n",
    "\n",
    "```"
   ]
  },
  {
   "cell_type": "markdown",
   "metadata": {},
   "source": [
    "## Question: Can We return a function as result? \n",
    "## Answer: Yes. One Such Example of A Function returning function is Closure"
   ]
  },
  {
   "cell_type": "markdown",
   "metadata": {},
   "source": [
    "A closure is a way of keeping alive a variable even when the function has returned. So, in a closure, a function is defined along with the environment. In Python, this is done by nesting a function inside the encapsulating function and then returning the underlying function."
   ]
  },
  {
   "cell_type": "code",
   "execution_count": 11,
   "metadata": {},
   "outputs": [],
   "source": [
    "def getNewInteger1():\n",
    "    current_integer = 0\n",
    "    def increament_current_integer():\n",
    "        nonlocal current_integer\n",
    "        current_integer +=1\n",
    "        return current_integer\n",
    "    return increament_current_integer"
   ]
  },
  {
   "cell_type": "code",
   "execution_count": 16,
   "metadata": {},
   "outputs": [],
   "source": [
    "getResult = getNewInteger()"
   ]
  },
  {
   "cell_type": "code",
   "execution_count": 17,
   "metadata": {},
   "outputs": [
    {
     "data": {
      "text/plain": [
       "1"
      ]
     },
     "execution_count": 17,
     "metadata": {},
     "output_type": "execute_result"
    }
   ],
   "source": [
    "getResult() #1,2,3"
   ]
  },
  {
   "cell_type": "code",
   "execution_count": 18,
   "metadata": {},
   "outputs": [
    {
     "data": {
      "text/plain": [
       "2"
      ]
     },
     "execution_count": 18,
     "metadata": {},
     "output_type": "execute_result"
    }
   ],
   "source": [
    "getResult()"
   ]
  },
  {
   "cell_type": "markdown",
   "metadata": {},
   "source": [
    "Another Flavor of the abouve function, without \n",
    "``` python\n",
    "nonlocal\n",
    "```\n",
    "keyword\n"
   ]
  },
  {
   "cell_type": "code",
   "execution_count": 15,
   "metadata": {},
   "outputs": [],
   "source": [
    "def getNewInteger():\n",
    "    current_integer = [0]\n",
    "    def increament_current_integer():\n",
    "        current_integer[0] +=1\n",
    "        return current_integer[0]\n",
    "    return increament_current_integer"
   ]
  },
  {
   "cell_type": "markdown",
   "metadata": {},
   "source": [
    "Why this code works\n",
    "```python\n",
    "def getNewInteger():\n",
    "    current_integer = [0]\n",
    "    def increament_current_integer():\n",
    "        current_integer[0] +=1\n",
    "        return current_integer[0]\n",
    "    return increament_current_integer\n",
    "```\n",
    "but this doesn't\n",
    "```python\n",
    "def getNewInteger():\n",
    "    current_integer = 0\n",
    "    def increament_current_integer():\n",
    "        current_integer +=1\n",
    "        return current_integer\n",
    "    return increament_current_integer\n",
    "```\n",
    "\n",
    "Reason: [Unbound Local Error](https://docs.python.org/3/faq/programming.html#why-am-i-getting-an-unboundlocalerror-when-the-variable-has-a-value)\n"
   ]
  },
  {
   "cell_type": "code",
   "execution_count": 19,
   "metadata": {},
   "outputs": [],
   "source": [
    "def generate_counter3():\n",
    "    def add_one():\n",
    "        add_one.x += 1\n",
    "        return add_one.x\n",
    "    add_one.x = 0\n",
    "    return add_one"
   ]
  },
  {
   "cell_type": "code",
   "execution_count": null,
   "metadata": {},
   "outputs": [],
   "source": []
  },
  {
   "cell_type": "markdown",
   "metadata": {},
   "source": [
    "# Decorators or Higher order Functions (Functional Programming)"
   ]
  },
  {
   "cell_type": "markdown",
   "metadata": {},
   "source": [
    "As **object oriented programming** revolves are around the **objects** and **classes**. **Functional Programming** revolves around **Functions**. So the basic entity of functional Programming is  Function. \n",
    "\n",
    "The main key point in functional Programming are Higher Order Functions, Higher Order Functions are nothing but a function that takes function as arguments or returns functions are result. Functions are of two type \n",
    "1. Pure\n",
    "2. Impure\n",
    "\n",
    "Pure functions will have no side effects "
   ]
  },
  {
   "cell_type": "code",
   "execution_count": null,
   "metadata": {},
   "outputs": [],
   "source": []
  }
 ],
 "metadata": {
  "kernelspec": {
   "display_name": "Python 3",
   "language": "python",
   "name": "python3"
  },
  "language_info": {
   "codemirror_mode": {
    "name": "ipython",
    "version": 3
   },
   "file_extension": ".py",
   "mimetype": "text/x-python",
   "name": "python",
   "nbconvert_exporter": "python",
   "pygments_lexer": "ipython3",
   "version": "3.8.5"
  }
 },
 "nbformat": 4,
 "nbformat_minor": 4
}
